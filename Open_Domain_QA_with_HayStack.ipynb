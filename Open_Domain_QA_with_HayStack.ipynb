{
  "nbformat": 4,
  "nbformat_minor": 0,
  "metadata": {
    "colab": {
      "name": "Open-Domain QA with HayStack.ipynb",
      "provenance": [],
      "authorship_tag": "ABX9TyPZBxef/R4281hxEYAGN+5N",
      "include_colab_link": true
    },
    "kernelspec": {
      "name": "python3",
      "display_name": "Python 3"
    },
    "language_info": {
      "name": "python"
    },
    "accelerator": "GPU",
    "gpuClass": "standard"
  },
  "cells": [
    {
      "cell_type": "markdown",
      "metadata": {
        "id": "view-in-github",
        "colab_type": "text"
      },
      "source": [
        "<a href=\"https://colab.research.google.com/github/Codehackerone/nlp-with-transformers/blob/main/Open_Domain_QA_with_HayStack.ipynb\" target=\"_parent\"><img src=\"https://colab.research.google.com/assets/colab-badge.svg\" alt=\"Open In Colab\"/></a>"
      ]
    },
    {
      "cell_type": "code",
      "execution_count": 1,
      "metadata": {
        "id": "th2WO-trfbJi"
      },
      "outputs": [],
      "source": [
        "import requests"
      ]
    },
    {
      "cell_type": "code",
      "source": [
        "data = requests.get('https://raw.githubusercontent.com/jamescalam/transformers/main/data/text/meditations/clean.txt')\n",
        "text = data.text.split('\\n')\n"
      ],
      "metadata": {
        "id": "01fPIkoKhvFo"
      },
      "execution_count": 2,
      "outputs": []
    },
    {
      "cell_type": "code",
      "source": [
        "requests.get('http://localhost:9200/_cluster/health').json()"
      ],
      "metadata": {
        "id": "bBxaaKMahwu4"
      },
      "execution_count": null,
      "outputs": []
    },
    {
      "cell_type": "code",
      "source": [
        "print(requests.get('http://localhost:9200/_cat/indices').text)"
      ],
      "metadata": {
        "id": "eGJL92jqhyRJ"
      },
      "execution_count": null,
      "outputs": []
    },
    {
      "cell_type": "code",
      "source": [
        "from haystack.document_store.elasticsearch import ElasticsearchDocumentStore\n",
        "\n",
        "doc_store = ElasticsearchDocumentStore(\n",
        "    host='localhost',\n",
        "    username='', password='',\n",
        "    index='aurelius'\n",
        ")"
      ],
      "metadata": {
        "id": "ZN9d6-JCh2Ub"
      },
      "execution_count": null,
      "outputs": []
    },
    {
      "cell_type": "code",
      "source": [
        "print(requests.get('http://localhost:9200/_cat/indices').text)"
      ],
      "metadata": {
        "id": "hF0lLKtAh4O7"
      },
      "execution_count": null,
      "outputs": []
    },
    {
      "cell_type": "code",
      "source": [
        "data_json = [\n",
        "    {\n",
        "        'text': paragraph,\n",
        "        'meta': {\n",
        "            'source': 'meditations'\n",
        "        }\n",
        "    } for paragraph in text\n",
        "]"
      ],
      "metadata": {
        "id": "bBGfLstQh51f"
      },
      "execution_count": null,
      "outputs": []
    },
    {
      "cell_type": "code",
      "source": [
        "doc_store.write_documents(data_json)"
      ],
      "metadata": {
        "id": "DOdaC1lBh54C"
      },
      "execution_count": null,
      "outputs": []
    },
    {
      "cell_type": "code",
      "source": [
        "requests.get('http://localhost:9200/aurelius/_count').json()"
      ],
      "metadata": {
        "id": "eJReV-Zuh56o"
      },
      "execution_count": null,
      "outputs": []
    },
    {
      "cell_type": "code",
      "source": [
        "from haystack.document_store.elasticsearch import ElasticsearchDocumentStore\n",
        "\n",
        "doc_store = ElasticsearchDocumentStore(\n",
        "    host='localhost',\n",
        "    username='', password='',\n",
        "    index='aurelius'\n",
        ")"
      ],
      "metadata": {
        "id": "gvGiYooTh59F"
      },
      "execution_count": null,
      "outputs": []
    },
    {
      "cell_type": "code",
      "source": [
        "from haystack.retriever.sparse import ElasticsearchRetriever\n",
        "from haystack.reader.farm import FARMReader\n",
        "\n",
        "retriever = ElasticsearchRetriever(doc_store)  # BM25\n",
        "reader = FARMReader(model_name_or_path='deepset/bert-base-cased-squad2',\n",
        "                    context_window_size=1500,\n",
        "                    use_gpu=True)"
      ],
      "metadata": {
        "id": "FIu5jHGhh5_T"
      },
      "execution_count": null,
      "outputs": []
    },
    {
      "cell_type": "code",
      "source": [
        "from haystack.pipeline import ExtractiveQAPipeline\n",
        "\n",
        "qa = ExtractiveQAPipeline(reader=reader, retriever=retriever)"
      ],
      "metadata": {
        "id": "QUtoTA6Nh6B5"
      },
      "execution_count": null,
      "outputs": []
    },
    {
      "cell_type": "code",
      "source": [
        "qa.run(query='What did your grandfather teach?')"
      ],
      "metadata": {
        "id": "SCseh-AZh6EU"
      },
      "execution_count": null,
      "outputs": []
    },
    {
      "cell_type": "code",
      "source": [
        "qa.run(query='What is the Universe?',\n",
        "       top_k_reader=3)"
      ],
      "metadata": {
        "id": "8vOH6ksBh6Gl"
      },
      "execution_count": null,
      "outputs": []
    },
    {
      "cell_type": "code",
      "source": [
        "qa.run(query='What is art?',\n",
        "       top_k_reader=3)"
      ],
      "metadata": {
        "id": "vFKsAWSeh6Is"
      },
      "execution_count": null,
      "outputs": []
    }
  ]
}